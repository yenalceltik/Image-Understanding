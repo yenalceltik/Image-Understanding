{
 "cells": [
  {
   "cell_type": "code",
   "execution_count": null,
   "metadata": {},
   "outputs": [],
   "source": [
    "import cv2\n",
    "import numpy as np\n",
    "import matplotlib.pyplot as plt\n",
    "import math\n",
    "import time"
   ]
  },
  {
   "cell_type": "code",
   "execution_count": null,
   "metadata": {},
   "outputs": [],
   "source": [
    "img = cv2.imread(\"in_img.jpg\")\n",
    "%matplotlib inline\n",
    "img_rgb = cv2.cvtColor(img, cv2.COLOR_BGR2RGB)\n",
    "plt.imshow(img_rgb)"
   ]
  },
  {
   "cell_type": "code",
   "execution_count": null,
   "metadata": {},
   "outputs": [],
   "source": [
    "def gaussian(x, sigma):\n",
    "    calculation=(1 / (2 * np.pi * (sigma ** 2))) * np.exp(- ((x ** 2) / (2 * sigma ** 2)))\n",
    "    return calculation\n",
    "\n",
    "def difference_coordinates(x,y,z,t):\n",
    "    distance=np.sqrt( ((z-x)**2) + ((t-y)**2))\n",
    "    return distance\n",
    "\n",
    "def difference_intensities(image,index,x,y,z,t):\n",
    "    return(image[int(x)][int(y)][index]-image[z][t][index])\n",
    "\n",
    "def I_filtered(img,temp,index,Wp,nx,ny,x,y,sigma_i,sigma_s):\n",
    "    \n",
    "    gaussian_intensity=gaussian(difference_intensities(img,index,nx,ny,x,y),sigma_i)\n",
    "    gaussian_spatial=gaussian(difference_coordinates(nx,ny,x,y),sigma_s)\n",
    "    w=gaussian_intensity*gaussian_spatial\n",
    "    \n",
    "\n",
    "    temp[index]+=(img[int(nx)][int(ny)][index])*w\n",
    "    Wp[index]+=w\n",
    "    return temp,Wp\n",
    "    \n",
    "def apply_filter(img,f_img,x,y,hl,filt_size,sigma_i,sigma_s):\n",
    "    temp = [0,0,0]\n",
    "    Wp=[0,0,0]\n",
    "    i = 0\n",
    "    while(i < filt_size):\n",
    "        j = 0\n",
    "        while(j < filt_size):\n",
    "            neighbour_x = x -(hl-i)\n",
    "            neighbour_y = y -(hl-j)\n",
    "            if(neighbour_x >= len(img)):\n",
    "                neighbour_x -= len(img)\n",
    "            if(neighbour_y >= len(img[0])): \n",
    "                neighbour_y -= len(img[0])\n",
    "            t=0\n",
    "            while(t<len(temp)):\n",
    "                temp,Wp=I_filtered(img,temp,t,Wp,neighbour_x,neighbour_y,x,y,sigma_i,sigma_s)\n",
    "                t+=1\n",
    "            j+=1\n",
    "        i+=1\n",
    "        \n",
    "    k=0\n",
    "    while(k<len(temp)):\n",
    "        temp[k]=temp[k]/Wp[k]\n",
    "        k+=1\n",
    "        \n",
    "    l=0\n",
    "    while(l<len(temp)):\n",
    "        f_img[x][y][l] = int(round(abs(temp[l])))\n",
    "        l+=1\n",
    "    \n",
    "def visit(img,filt_size,sigma_i,sigma_s):\n",
    "    half_len = filt_size//2\n",
    "    filtered_img = np.zeros((img.shape))\n",
    "    i = 0\n",
    "    while(i < len(img)):\n",
    "        j = 0\n",
    "        while(j < len(img[0])):\n",
    "            \n",
    "            apply_filter(img,filtered_img,i,j,half_len,filt_size,sigma_i,sigma_s)\n",
    "            j+=1\n",
    "        i+=1\n",
    "    return filtered_img\n",
    "\n",
    "\n",
    "\n",
    "filtered_img_own=visit(img,7,15,18)\n",
    "cv2.imwrite(\"filtered_image_own.png\",filtered_img_own)\n",
    "\n",
    "filtered_image_OpenCV = cv2.bilateralFilter(img, 7,15, 18)\n",
    "cv2.imwrite(\"filtered_image_OpenCV.png\", img)"
   ]
  },
  {
   "cell_type": "markdown",
   "metadata": {},
   "source": [
    "-When I select (sigma_i=2 ,sigma_s=2) the filtered image don't change perceptibly.\n",
    "-When I increase sigma_i value from 2 to 10 (sigma_i=10,sigma_s=2) we can see some difference on the filtered image.After increasing value of sigma intenstiy,the noise reduction is increased.\n",
    "-Again I increase sigma_i value from 10 to 15(sigma_i=15,sigma_s=2).After perform that value the change is observable.Noises are reduce if we increase sigma_i value.\n",
    "-After I change the sigma_s value (sigma_i=15,sigma_s=10).There is no visibly change on general but the edges are distinct.When I increase sigma_s value the edge-preserving is increase.\n",
    "\n",
    "I select sigma_i=15 and sigma_s=18.Because when the sigma_i value is between this [15,20] two value denoising is almost same.I think sigma_s value is depend on the edge-preserving.So I select it for the same reason I think that,when increasing sigma_s the edge preserving also increase.\n"
   ]
  },
  {
   "cell_type": "code",
   "execution_count": null,
   "metadata": {},
   "outputs": [],
   "source": []
  }
 ],
 "metadata": {
  "kernelspec": {
   "display_name": "Python 3",
   "language": "python",
   "name": "python3"
  },
  "language_info": {
   "codemirror_mode": {
    "name": "ipython",
    "version": 3
   },
   "file_extension": ".py",
   "mimetype": "text/x-python",
   "name": "python",
   "nbconvert_exporter": "python",
   "pygments_lexer": "ipython3",
   "version": "3.5.2"
  }
 },
 "nbformat": 4,
 "nbformat_minor": 2
}
